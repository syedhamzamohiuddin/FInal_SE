{
 "cells": [
  {
   "cell_type": "markdown",
   "metadata": {},
   "source": [
    "<h2>Get LaTeX equations from PDFs</h2>"
   ]
  },
  {
   "cell_type": "code",
   "execution_count": 1,
   "metadata": {},
   "outputs": [],
   "source": [
    "import pdfminer\n",
    "\n",
    "from io import StringIO\n",
    "from pdfminer.converter import TextConverter\n",
    "from pdfminer.layout import LAParams\n",
    "from pdfminer.pdfdocument import PDFDocument\n",
    "from pdfminer.pdfinterp import PDFResourceManager, PDFPageInterpreter\n",
    "from pdfminer.pdfpage import PDFPage\n",
    "from pdfminer.pdfparser import PDFParser"
   ]
  },
  {
   "cell_type": "code",
   "execution_count": 2,
   "metadata": {},
   "outputs": [],
   "source": [
    "import os\n",
    "import re"
   ]
  },
  {
   "cell_type": "code",
   "execution_count": null,
   "metadata": {},
   "outputs": [],
   "source": []
  },
  {
   "cell_type": "code",
   "execution_count": 3,
   "metadata": {},
   "outputs": [],
   "source": [
    "def extract_text_from_pdf(pdfname):\n",
    "    output_string = StringIO()\n",
    "\n",
    "    with open('pdfs/'+pdfname,'rb') as in_file:\n",
    "        parser = PDFParser(in_file)\n",
    "        doc = PDFDocument(parser)\n",
    "        rsrcmgr = PDFResourceManager()\n",
    "        device = TextConverter(rsrcmgr,output_string,laparams=LAParams())\n",
    "        interpreter = PDFPageInterpreter(rsrcmgr, device)\n",
    "        for page in PDFPage.create_pages(doc):\n",
    "            try:\n",
    "                interpreter.process_page(page)\n",
    "            except:\n",
    "                print(page)\n",
    "    return output_string.getvalue()"
   ]
  },
  {
   "cell_type": "code",
   "execution_count": 4,
   "metadata": {},
   "outputs": [],
   "source": [
    "def getAllLatexEquations(origtext,text):    \n",
    "    all_eqs = []\n",
    "\n",
    "    # $...$\n",
    "    dollar_eqs = re.findall(\"\\$.*?\\$\",origtext)\n",
    "    all_eqs+=dollar_eqs\n",
    "\n",
    "    # \\begin{equation*}. OR \\begin{equation}.. OR \\begin{subequations} OR \\begin{empheq}\n",
    "    begineq_eqs =  re.findall(\"\\\\\\\\begin{equation\\*.*?equation\\*}|\\\\\\\\begin{equation.*?equation}|\\\\\\\\begin{subequations}.*?subequations}|\\\\\\\\begin{empheq}.*?empheq}\",text)\n",
    "    all_eqs+=begineq_eqs\n",
    "\n",
    "    # \\[...\\]\n",
    "    square_brackets = re.findall(\"\\\\\\\\\\[.*?\\\\\\\\\\]\",text)\n",
    "    all_eqs+=square_brackets\n",
    "\n",
    "\n",
    "    # \\begin{align} OR \\begin{align*}\n",
    "    begin_align = re.findall(\"begin{align\\*}.*?end{align\\*}|begin{align}.*?end{align}\",text)\n",
    "    all_eqs+=begin_align\n",
    "\n",
    "\n",
    "    # \\begin{multline}.....\\end{multline}\n",
    "    begin_multiline = re.findall(\"\\\\\\\\begin{multline}.*?\\\\\\\\end{multline}\",text)\n",
    "    all_eqs+=begin_multiline\n",
    "\n",
    "    # \\begin{eqnarray} OR \\begin{array}\n",
    "    begin_array = re.findall(\"\\\\\\\\begin{eqnarray}.*?\\\\\\\\end{eqnarray}|\\\\\\\\begin{array}.*?\\\\\\\\end{array}\",text)\n",
    "    all_eqs+=begin_array\n",
    "\n",
    "\n",
    "    # \\begin{verbatim}\n",
    "    begin_verbatim = re.findall(\"\\\\\\\\begin{verbatim}.*?\\\\\\\\end{verbatim}\",text)\n",
    "    all_eqs+=begin_verbatim\n",
    "\n",
    "    # \\begin{gather*}. ... \\end{gather*}\n",
    "    begin_gather = re.findall(\"\\\\\\\\begin{gather}.*?\\\\\\\\end{gather}|\\\\\\\\begin{gather\\*}.*?\\\\\\\\end{gather\\*}\",text)\n",
    "    all_eqs+=begin_gather\n",
    "\n",
    "\n",
    "    #\\begin{cases}\n",
    "    begin_cases = re.findall(\"\\\\\\\\begin{gather}.*?\\\\\\\\end{gather}|\\\\\\\\begin{gather\\*}.*?\\\\\\\\end{gather\\*}\",text)\n",
    "    all_eqs+=begin_cases\n",
    "\n",
    "\n",
    "    #\\begin{pmat}\n",
    "    begin_pmat = re.findall(\"\\\\\\\\begin{pmat}.*?\\\\\\\\end{pmat}\",text)\n",
    "    all_eqs+=begin_pmat\n",
    "\n",
    "\n",
    "    return all_eqs"
   ]
  },
  {
   "cell_type": "code",
   "execution_count": 5,
   "metadata": {},
   "outputs": [],
   "source": [
    "def writeToTextFile(fileName, all_eqs):\n",
    "\n",
    "    f = open(\"training_data/\"+fileName,\"w\")\n",
    "    strng = \"\"\n",
    "    for equation in all_eqs:\n",
    "        strng = strng + '\\n' +equation\n",
    "    print(len(all_eqs))\n",
    "    f.write(strng)\n",
    "    f.close()"
   ]
  },
  {
   "cell_type": "code",
   "execution_count": 6,
   "metadata": {},
   "outputs": [
    {
     "data": {
      "text/plain": [
       "['mil_maths.pdf',\n",
       " 'GSWLaTeX_maths.pdf',\n",
       " 'novices-report_math.pdf',\n",
       " 'Latex_math.pdf',\n",
       " 'TheLaTeXMathematicsCompanionGai.pdf']"
      ]
     },
     "execution_count": 6,
     "metadata": {},
     "output_type": "execute_result"
    }
   ],
   "source": [
    "os.listdir('pdfs')"
   ]
  },
  {
   "cell_type": "markdown",
   "metadata": {},
   "source": [
    "<h3>TheLatexMathematicsCompanion<h1>\n"
   ]
  },
  {
   "cell_type": "code",
   "execution_count": 7,
   "metadata": {},
   "outputs": [],
   "source": [
    "origtext = extract_text_from_pdf('TheLaTeXMathematicsCompanionGai.pdf')"
   ]
  },
  {
   "cell_type": "code",
   "execution_count": 8,
   "metadata": {},
   "outputs": [],
   "source": [
    "text = re.sub(\"\\n\", \" \", origtext) # removing newline characters in equations"
   ]
  },
  {
   "cell_type": "code",
   "execution_count": 9,
   "metadata": {},
   "outputs": [
    {
     "name": "stdout",
     "output_type": "stream",
     "text": [
      "337\n"
     ]
    }
   ],
   "source": [
    "all_eqs = getAllLatexEquations(origtext,text)\n",
    "print(len(all_eqs))\n"
   ]
  },
  {
   "cell_type": "code",
   "execution_count": 10,
   "metadata": {},
   "outputs": [
    {
     "name": "stdout",
     "output_type": "stream",
     "text": [
      "337\n"
     ]
    }
   ],
   "source": [
    "writeToTextFile(\"TheLaTeXMathematicsCompanionGai.txt\", all_eqs)"
   ]
  },
  {
   "cell_type": "markdown",
   "metadata": {},
   "source": [
    "<h3>Mil</h3>"
   ]
  },
  {
   "cell_type": "code",
   "execution_count": 11,
   "metadata": {},
   "outputs": [],
   "source": [
    "origtext = extract_text_from_pdf('mil_maths.pdf')"
   ]
  },
  {
   "cell_type": "code",
   "execution_count": 12,
   "metadata": {},
   "outputs": [],
   "source": [
    "text = re.sub(\"\\n\", \" \", origtext) # removing newline characters in equations"
   ]
  },
  {
   "cell_type": "code",
   "execution_count": 14,
   "metadata": {},
   "outputs": [
    {
     "name": "stdout",
     "output_type": "stream",
     "text": [
      "157\n"
     ]
    }
   ],
   "source": [
    "all_eqs = getAllLatexEquations(origtext,text)\n",
    "print(len(all_eqs))\n"
   ]
  },
  {
   "cell_type": "code",
   "execution_count": 15,
   "metadata": {},
   "outputs": [],
   "source": [
    "custom = re.findall(\"\\\\\\\\.*? \",text)"
   ]
  },
  {
   "cell_type": "code",
   "execution_count": 16,
   "metadata": {},
   "outputs": [
    {
     "name": "stdout",
     "output_type": "stream",
     "text": [
      "1798\n"
     ]
    }
   ],
   "source": [
    "all_eqs+=custom\n",
    "#writeToTextFile(\"mil_maths.txt\",all_eqs)\n"
   ]
  },
  {
   "cell_type": "markdown",
   "metadata": {},
   "source": [
    "<h3> GSW </h3>"
   ]
  },
  {
   "cell_type": "code",
   "execution_count": 17,
   "metadata": {},
   "outputs": [],
   "source": [
    "origtext = extract_text_from_pdf(\"GSWLaTeX_maths.pdf\")"
   ]
  },
  {
   "cell_type": "code",
   "execution_count": 18,
   "metadata": {},
   "outputs": [],
   "source": [
    "text = re.sub(\"\\n\", \" \", origtext)"
   ]
  },
  {
   "cell_type": "code",
   "execution_count": null,
   "metadata": {},
   "outputs": [],
   "source": [
    "all_eqs = getAllLatexEquations(origtext,text)\n",
    "print(len(all_eqs))\n",
    "for eq in all_eqs:\n",
    "    print(eq)"
   ]
  },
  {
   "cell_type": "code",
   "execution_count": 22,
   "metadata": {},
   "outputs": [],
   "source": [
    "custom = re.findall(\"\\\\\\\\.*?[ \\n]\",text)"
   ]
  },
  {
   "cell_type": "code",
   "execution_count": null,
   "metadata": {},
   "outputs": [],
   "source": []
  },
  {
   "cell_type": "code",
   "execution_count": 25,
   "metadata": {},
   "outputs": [],
   "source": [
    "all_eqs+=custom"
   ]
  },
  {
   "cell_type": "code",
   "execution_count": 26,
   "metadata": {},
   "outputs": [
    {
     "name": "stdout",
     "output_type": "stream",
     "text": [
      "753\n"
     ]
    }
   ],
   "source": [
    "#writeToTextFile(\"GSWLaTeX_maths.txt\",all_eqs)"
   ]
  },
  {
   "cell_type": "markdown",
   "metadata": {},
   "source": [
    "<h3>novices report</h3>"
   ]
  },
  {
   "cell_type": "code",
   "execution_count": 9,
   "metadata": {},
   "outputs": [],
   "source": [
    "origtext = extract_text_from_pdf(\"novices-report_math.pdf\")"
   ]
  },
  {
   "cell_type": "code",
   "execution_count": 11,
   "metadata": {},
   "outputs": [],
   "source": [
    "text = re.sub(\"\\n\", \" \", origtext) # removing newline characters in equations"
   ]
  },
  {
   "cell_type": "code",
   "execution_count": 12,
   "metadata": {},
   "outputs": [
    {
     "name": "stdout",
     "output_type": "stream",
     "text": [
      "110\n"
     ]
    }
   ],
   "source": [
    "all_eqs = getAllLatexEquations(origtext,text)\n",
    "print(len(all_eqs))\n"
   ]
  },
  {
   "cell_type": "code",
   "execution_count": 19,
   "metadata": {},
   "outputs": [
    {
     "name": "stdout",
     "output_type": "stream",
     "text": [
      "110\n"
     ]
    }
   ],
   "source": [
    "#writeToTextFile(\"novices_report.txt\",all_eqs)"
   ]
  },
  {
   "cell_type": "markdown",
   "metadata": {},
   "source": [
    "<h3> Latex_math </h3>"
   ]
  },
  {
   "cell_type": "code",
   "execution_count": 20,
   "metadata": {},
   "outputs": [],
   "source": [
    "origtext = extract_text_from_pdf(\"Latex_math.pdf\")"
   ]
  },
  {
   "cell_type": "code",
   "execution_count": 21,
   "metadata": {},
   "outputs": [],
   "source": [
    "text = re.sub(\"\\n\", \" \", origtext) # removing newline characters in equations"
   ]
  },
  {
   "cell_type": "code",
   "execution_count": 22,
   "metadata": {},
   "outputs": [],
   "source": [
    "all_eqs = getAllLatexEquations(origtext,text)"
   ]
  },
  {
   "cell_type": "code",
   "execution_count": 25,
   "metadata": {},
   "outputs": [],
   "source": [
    "custom = re.findall(\"\\\\\\\\.*?[ \\n]\",text)"
   ]
  },
  {
   "cell_type": "code",
   "execution_count": 27,
   "metadata": {},
   "outputs": [],
   "source": [
    "all_eqs+=custom"
   ]
  },
  {
   "cell_type": "code",
   "execution_count": null,
   "metadata": {},
   "outputs": [],
   "source": []
  },
  {
   "cell_type": "code",
   "execution_count": 28,
   "metadata": {},
   "outputs": [
    {
     "name": "stdout",
     "output_type": "stream",
     "text": [
      "1099\n"
     ]
    }
   ],
   "source": [
    "#writeToTextFile(\"Latex_math.txt\",all_eqs)"
   ]
  }
 ],
 "metadata": {
  "kernelspec": {
   "display_name": "Python 3",
   "language": "python",
   "name": "python3"
  },
  "language_info": {
   "codemirror_mode": {
    "name": "ipython",
    "version": 3
   },
   "file_extension": ".py",
   "mimetype": "text/x-python",
   "name": "python",
   "nbconvert_exporter": "python",
   "pygments_lexer": "ipython3",
   "version": "3.8.5"
  }
 },
 "nbformat": 4,
 "nbformat_minor": 4
}

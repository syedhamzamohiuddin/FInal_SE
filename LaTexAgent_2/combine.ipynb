{
 "cells": [
  {
   "cell_type": "code",
   "execution_count": 3,
   "metadata": {},
   "outputs": [],
   "source": [
    "import os\n",
    "import re"
   ]
  },
  {
   "cell_type": "code",
   "execution_count": 100,
   "metadata": {},
   "outputs": [],
   "source": [
    "training_files = os.listdir(\"training_data/\")"
   ]
  },
  {
   "cell_type": "code",
   "execution_count": 101,
   "metadata": {},
   "outputs": [],
   "source": [
    "training_files = [file for file in training_files if re.match('.*\\.(txt)',file)]"
   ]
  },
  {
   "cell_type": "code",
   "execution_count": 19,
   "metadata": {},
   "outputs": [
    {
     "name": "stdout",
     "output_type": "stream",
     "text": [
      "training_data/novices_report.txt\n",
      "training_data/TheLaTeXMathematicsCompanionGai.txt\n",
      "training_data/Latex_math.txt\n",
      "training_data/mil_maths.txt\n",
      "training_data/overleaf.txt\n",
      "training_data/GSWLaTeX_maths.txt\n"
     ]
    }
   ],
   "source": [
    "outfile = open(\"training_data/train/train.txt\", \"w\")\n",
    "for file in training_files:\n",
    "    path = \"training_data/\"+file\n",
    "    print(path)\n",
    "    content = open(path,\"r\").read()\n",
    "    \n",
    "\n",
    "    outfile.write(content)"
   ]
  },
  {
   "cell_type": "markdown",
   "metadata": {},
   "source": [
    "<h2>Training file formating</h2>"
   ]
  },
  {
   "cell_type": "code",
   "execution_count": 25,
   "metadata": {},
   "outputs": [],
   "source": [
    "infile = open(\"training_data/train/train.txt\", \"r\")\n",
    "strng = infile.read()\n",
    "    \n",
    "infile.close()\n",
    "\n"
   ]
  },
  {
   "cell_type": "code",
   "execution_count": 26,
   "metadata": {},
   "outputs": [],
   "source": [
    "clean = re.sub(\"\\[\", \"[ \", strng)\n",
    "\n"
   ]
  },
  {
   "cell_type": "code",
   "execution_count": 27,
   "metadata": {},
   "outputs": [],
   "source": [
    "of = open(\"training_data/train/train.txt\", \"w\")\n",
    "of.write(clean)\n",
    "of.close()"
   ]
  },
  {
   "cell_type": "code",
   "execution_count": null,
   "metadata": {},
   "outputs": [],
   "source": []
  },
  {
   "cell_type": "code",
   "execution_count": null,
   "metadata": {},
   "outputs": [],
   "source": []
  }
 ],
 "metadata": {
  "kernelspec": {
   "display_name": "Python 3",
   "language": "python",
   "name": "python3"
  },
  "language_info": {
   "codemirror_mode": {
    "name": "ipython",
    "version": 3
   },
   "file_extension": ".py",
   "mimetype": "text/x-python",
   "name": "python",
   "nbconvert_exporter": "python",
   "pygments_lexer": "ipython3",
   "version": "3.8.5"
  }
 },
 "nbformat": 4,
 "nbformat_minor": 4
}

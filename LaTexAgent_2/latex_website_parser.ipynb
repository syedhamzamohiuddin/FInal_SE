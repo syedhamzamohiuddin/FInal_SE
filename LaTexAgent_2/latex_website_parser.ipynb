{
 "cells": [
  {
   "cell_type": "markdown",
   "metadata": {},
   "source": [
    "<h1>Notebook to get LaTeX equations from Website URLs</h1>"
   ]
  },
  {
   "cell_type": "markdown",
   "metadata": {},
   "source": [
    "<h3>Importing libraries</h3>"
   ]
  },
  {
   "cell_type": "code",
   "execution_count": 1,
   "metadata": {},
   "outputs": [],
   "source": [
    "from bs4 import BeautifulSoup\n",
    "from urllib.request import urlopen\n",
    "\n",
    "import re\n",
    "import os"
   ]
  },
  {
   "cell_type": "markdown",
   "metadata": {},
   "source": [
    "<h3>Extract LaTeX equations from text</h3>\n",
    "<p>This method returns the equations. see comments for details. Comments will tell which regular expression extracts which equaiton set<p>"
   ]
  },
  {
   "cell_type": "code",
   "execution_count": 154,
   "metadata": {},
   "outputs": [],
   "source": [
    "def getAllLatexEquations(text,text2):    \n",
    "    all_eqs = []\n",
    "\n",
    "    # $...$\n",
    "    dollar_eqs = re.findall(\"\\$.*?\\$\",text)\n",
    "    all_eqs+=dollar_eqs\n",
    "\n",
    "    # \\begin{equation*}. OR \\begin{equation}.. OR \\begin{subequations} OR \\begin{empheq}\n",
    "    begineq_eqs =  re.findall(\"\\\\\\\\begin{equation\\*.*?equation\\*}|\\\\\\\\begin{equation.*?equation}|\\\\\\\\begin{subequations}.*?subequations}|\\\\\\\\begin{empheq}.*?empheq}\",text)\n",
    "    all_eqs+=begineq_eqs\n",
    "\n",
    "    # \\[...\\]\n",
    "    square_brackets = re.findall(\"\\\\\\\\\\[.*?\\\\\\\\\\]\",text)\n",
    "    all_eqs+=square_brackets\n",
    "    \n",
    "    # \\(...\\)\n",
    "    round_brackets = re.findall(\"\\\\\\\\\\(.*?\\\\\\\\\\)\",text)\n",
    "    all_eqs+=round_brackets\n",
    "\n",
    "\n",
    "    # \\begin{align} OR \\begin{align*}\n",
    "    begin_align = re.findall(\"begin{align\\*}.*?end{align\\*}|begin{align}.*?end{align}\",text)\n",
    "    all_eqs+=begin_align\n",
    "\n",
    "\n",
    "    # \\begin{multline}.....\\end{multline}\n",
    "    begin_multiline = re.findall(\"\\\\\\\\begin{multline}.*?\\\\\\\\end{multline}\",text)\n",
    "    all_eqs+=begin_multiline\n",
    "\n",
    "    # \\begin{eqnarray} OR \\begin{array}\n",
    "    begin_array = re.findall(\"\\\\\\\\begin{eqnarray}.*?\\\\\\\\end{eqnarray}|\\\\\\\\begin{array}.*?\\\\\\\\end{array}\",text)\n",
    "    all_eqs+=begin_array\n",
    "\n",
    "\n",
    "    # \\begin{verbatim}\n",
    "    begin_verbatim = re.findall(\"\\\\\\\\begin{verbatim}.*?\\\\\\\\end{verbatim}\",text)\n",
    "    all_eqs+=begin_verbatim\n",
    "\n",
    "    # \\begin{gather*}. ... \\end{gather*}\n",
    "    begin_gather = re.findall(\"\\\\\\\\begin{gather}.*?\\\\\\\\end{gather}|\\\\\\\\begin{gather\\*}.*?\\\\\\\\end{gather\\*}\",text)\n",
    "    all_eqs+=begin_gather\n",
    "\n",
    "\n",
    "    #\\begin{cases}\n",
    "    begin_cases = re.findall(\"\\\\\\\\begin{gather}.*?\\\\\\\\end{gather}|\\\\\\\\begin{gather\\*}.*?\\\\\\\\end{gather\\*}\",text)\n",
    "    all_eqs+=begin_cases\n",
    "\n",
    "\n",
    "    #\\begin{pmat}\n",
    "    begin_pmat = re.findall(\"\\\\\\\\begin{pmat}.*?\\\\\\\\end{pmat}\",text)\n",
    "    all_eqs+=begin_pmat\n",
    "\n",
    "\n",
    "    #terms\n",
    "    terms = re.findall(\"\\\\\\\\.*? \",text2)\n",
    "    all_eqs+=terms\n",
    "    \n",
    "    return all_eqs"
   ]
  },
  {
   "cell_type": "markdown",
   "metadata": {},
   "source": [
    "<h3>Given Url extract text</h3>\n",
    "<p>Note: This method is currently only customized for the website named 'overleaf'</p>"
   ]
  },
  {
   "cell_type": "code",
   "execution_count": 165,
   "metadata": {},
   "outputs": [],
   "source": [
    "def get_text(url):\n",
    "    page = urlopen(url)\n",
    "    full_html = page.read().decode(\"utf-8\")\n",
    "    soup = BeautifulSoup(full_html,\"html.parser\")\n",
    "    div_html_ob = soup.find(\"div\", class_=\"mw-parser-output\")\n",
    "    # Stringify html\n",
    "    div_html_txt=\"\"\n",
    "    for content in div_html_ob.contents:\n",
    "        div_html_txt+=str(content)\n",
    "    text = BeautifulSoup(div_html_txt, \"html.parser\").get_text()\n",
    "    text = re.sub(\"\\n\", \"\",text)\n",
    "    \n",
    "    try:\n",
    "        text2 = get_table_text(full_html)\n",
    "    except:\n",
    "        text2 = \"\"\n",
    "    return text,text2"
   ]
  },
  {
   "cell_type": "markdown",
   "metadata": {},
   "source": [
    "<h3>This method gets the entries of tables present in the website named 'overleaf'</h3>"
   ]
  },
  {
   "cell_type": "code",
   "execution_count": 141,
   "metadata": {},
   "outputs": [],
   "source": [
    "def get_table_text(full_html):\n",
    "    soup = BeautifulSoup(full_html,\"html.parser\")\n",
    "    table_html_obj = soup.find(\"table\")\n",
    "    # Stringify html\n",
    "    table_html_txt=\"\"\n",
    "    for content in table_html_obj.contents:\n",
    "        table_html_txt+=str(content)\n",
    "    \n",
    "    soup2 = BeautifulSoup(table_html_txt,\"html.parser\")\n",
    "    text=\"\"\n",
    "    for c in soup2.find_all(\"code\"):\n",
    "        text+=c.get_text()\n",
    "    return text"
   ]
  },
  {
   "cell_type": "markdown",
   "metadata": {},
   "source": [
    "<h3>Writes the equaions to a text file</h3>"
   ]
  },
  {
   "cell_type": "code",
   "execution_count": null,
   "metadata": {},
   "outputs": [],
   "source": [
    "def writeToTextFile(fileName, all_eqs):\n",
    "\n",
    "    f = open(\"training_data/\"+fileName,\"w\")\n",
    "    strng = \"\"\n",
    "    for equation in all_eqs:\n",
    "        strng = strng + '\\n' +equation\n",
    "    print(len(all_eqs))\n",
    "    f.write(strng)\n",
    "    f.close()"
   ]
  },
  {
   "cell_type": "markdown",
   "metadata": {},
   "source": [
    "<h3>URLs</h3>\n",
    "<p>All the Urls on the website named 'overleaf' related to mathematics<p>"
   ]
  },
  {
   "cell_type": "code",
   "execution_count": 166,
   "metadata": {},
   "outputs": [],
   "source": [
    "url0 = \"https://www.overleaf.com/learn/latex/Mathematical_expressions\"\n",
    "url1 = \"https://www.overleaf.com/learn/Subscripts_and_superscripts\"\n",
    "url2 = \"https://www.overleaf.com/learn/Brackets_and_Parentheses\"\n",
    "url3 = \"https://www.overleaf.com/learn/Fractions_and_Binomials\"\n",
    "url4 = \"https://www.overleaf.com/learn/Aligning_equations\"\n",
    "url5 = \"https://www.overleaf.com/learn/Operators\"\n",
    "url6 = \"https://www.overleaf.com/learn/Spacing_in_math_mode\"\n",
    "url7 = \"https://www.overleaf.com/learn/Integrals,_sums_and_limits\"\n",
    "url8 = \"https://www.overleaf.com/learn/Display_style_in_math_mode\"\n",
    "url9 = \"https://www.overleaf.com/learn/List_of_Greek_letters_and_math_symbols\"\n",
    "url10 = \"https://www.overleaf.com/learn/Mathematical_fonts\"\n",
    "\n",
    "urls = [url0,url1,url2,url3,url4,url5,url6,url7,url8,url9,url10]"
   ]
  },
  {
   "cell_type": "markdown",
   "metadata": {},
   "source": [
    "<h4>Collect equation from all Urls</h4>"
   ]
  },
  {
   "cell_type": "code",
   "execution_count": 167,
   "metadata": {},
   "outputs": [
    {
     "name": "stdout",
     "output_type": "stream",
     "text": [
      "https://www.overleaf.com/learn/latex/Mathematical_expressions\n",
      "https://www.overleaf.com/learn/Subscripts_and_superscripts\n",
      "https://www.overleaf.com/learn/Brackets_and_Parentheses\n",
      "https://www.overleaf.com/learn/Fractions_and_Binomials\n",
      "https://www.overleaf.com/learn/Aligning_equations\n",
      "https://www.overleaf.com/learn/Operators\n",
      "https://www.overleaf.com/learn/Spacing_in_math_mode\n",
      "https://www.overleaf.com/learn/Integrals,_sums_and_limits\n",
      "https://www.overleaf.com/learn/Display_style_in_math_mode\n",
      "https://www.overleaf.com/learn/List_of_Greek_letters_and_math_symbols\n",
      "https://www.overleaf.com/learn/Mathematical_fonts\n"
     ]
    }
   ],
   "source": [
    "text=\"\"\n",
    "for url in urls:\n",
    "    text1, text2 = get_text(url)\n",
    "    eqs = getAllLatexEquations(text1,text2)\n",
    "    \n",
    "    print(url)\n",
    "    for e in eqs:\n",
    "       \n",
    "        text+= \"\\n\"+e\n"
   ]
  },
  {
   "cell_type": "markdown",
   "metadata": {},
   "source": [
    "<h4>write all the equations to the file named 'overleaf.txt'</h4>"
   ]
  },
  {
   "cell_type": "code",
   "execution_count": 181,
   "metadata": {},
   "outputs": [
    {
     "data": {
      "text/plain": [
       "5382"
      ]
     },
     "execution_count": 181,
     "metadata": {},
     "output_type": "execute_result"
    }
   ],
   "source": [
    "text\n",
    "f = open(\"training_data/websites/overleaf.txt\",\"w\")\n",
    "f.write(text)\n"
   ]
  },
  {
   "cell_type": "code",
   "execution_count": null,
   "metadata": {},
   "outputs": [],
   "source": []
  }
 ],
 "metadata": {
  "kernelspec": {
   "display_name": "Python 3",
   "language": "python",
   "name": "python3"
  },
  "language_info": {
   "codemirror_mode": {
    "name": "ipython",
    "version": 3
   },
   "file_extension": ".py",
   "mimetype": "text/x-python",
   "name": "python",
   "nbconvert_exporter": "python",
   "pygments_lexer": "ipython3",
   "version": "3.8.5"
  }
 },
 "nbformat": 4,
 "nbformat_minor": 4
}
